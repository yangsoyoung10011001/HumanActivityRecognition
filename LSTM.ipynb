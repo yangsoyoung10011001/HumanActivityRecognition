{
  "nbformat": 4,
  "nbformat_minor": 0,
  "metadata": {
    "colab": {
      "name": "LSTM.ipynb",
      "provenance": [],
      "mount_file_id": "https://github.com/yangsoyoung10011001/HumanActivityRecognition/blob/main/LSTM.ipynb",
      "authorship_tag": "ABX9TyMU2+OMiBsch90LMo48IoLK",
      "include_colab_link": true
    },
    "kernelspec": {
      "name": "python3",
      "display_name": "Python 3"
    },
    "language_info": {
      "name": "python"
    },
    "accelerator": "GPU"
  },
  "cells": [
    {
      "cell_type": "markdown",
      "metadata": {
        "id": "view-in-github",
        "colab_type": "text"
      },
      "source": [
        "<a href=\"https://colab.research.google.com/github/yangsoyoung10011001/HumanActivityRecognition/blob/main/LSTM.ipynb\" target=\"_parent\"><img src=\"https://colab.research.google.com/assets/colab-badge.svg\" alt=\"Open In Colab\"/></a>"
      ]
    },
    {
      "cell_type": "code",
      "source": [
        "!pip install tensorflow.keras"
      ],
      "metadata": {
        "id": "CpNbpyne2SsS",
        "colab": {
          "base_uri": "https://localhost:8080/"
        },
        "outputId": "8d590eee-c27f-4c81-e53a-9ff9224a9386"
      },
      "execution_count": 16,
      "outputs": [
        {
          "output_type": "stream",
          "name": "stdout",
          "text": [
            "\u001b[31mERROR: Could not find a version that satisfies the requirement tensorflow.keras (from versions: none)\u001b[0m\n",
            "\u001b[31mERROR: No matching distribution found for tensorflow.keras\u001b[0m\n"
          ]
        }
      ]
    },
    {
      "cell_type": "code",
      "source": [
        "# lstm model\n",
        "from numpy import mean\n",
        "from numpy import std\n",
        "from numpy import dstack\n",
        "from pandas import read_csv\n",
        "from keras.models import Sequential\n",
        "from keras.layers import Dense\n",
        "from keras.layers import Flatten\n",
        "from keras.layers import Dropout\n",
        "from keras.layers import LSTM\n",
        "from tensorflow.keras.utils import to_categorical\n",
        "from matplotlib import pyplot\n",
        "from sklearn.metrics import confusion_matrix\n",
        "\n"
      ],
      "metadata": {
        "id": "c1b3TyRk1LRm"
      },
      "execution_count": 17,
      "outputs": []
    },
    {
      "cell_type": "code",
      "execution_count": 18,
      "metadata": {
        "id": "D3CRr9caTBYb"
      },
      "outputs": [],
      "source": [
        "#load a single file as a numpy array\n",
        "\n",
        "def load_file(filepath):\n",
        "  dataframe = read_csv(filepath, header = None, delim_whitespace = True)\n",
        "  return dataframe.values\n",
        "\n"
      ]
    },
    {
      "cell_type": "code",
      "source": [
        "# load a list of files into a 3D array of [samples, timesteps, features]\n",
        "#samples\n",
        "def load_group(filenames, prefix=''):\n",
        "  loaded = list()\n",
        "  for name in filenames:\n",
        "    data = load_file(prefix +name)\n",
        "    loaded.append(data)\n",
        "    #stack group so that features are the 3rd dimension\n",
        "  loaded = dstack(loaded)\n",
        "  return loaded\n",
        "  #  there are 128 time steps and nine features, where the number of samples is the number of rows in any given raw signal data file."
      ],
      "metadata": {
        "id": "UPXh8S6DaljT"
      },
      "execution_count": 19,
      "outputs": []
    },
    {
      "cell_type": "code",
      "source": [
        "# load a dataset group, such as train or test\n",
        "def load_dataset_group(group, prefix=''):\n",
        "  filepath = prefix + group+'/Inertial Signals/'\n",
        "  #load all 9 files as a single array\n",
        "  filenames = list()\n",
        "  #total acceleration\n",
        "  filenames += ['total_acc_x_' +group +'.txt', 'total_acc_y_'+group+'.txt','total_acc_z_'+group+'.txt']\n",
        "  #body accelation\n",
        "  filenames += ['body_acc_x_'+group+'.txt', 'body_acc_y_'+group+'.txt', 'body_acc_z_'+group+'.txt']\n",
        "  #body gyroscope\n",
        "  filenames +=['body_gyro_x_' +group+'.txt', 'body_gyro_y_'+group+'.txt', 'body_gyro_z_'+group+'.txt']\n",
        "  #load input data\n",
        "  X=load_group(filenames, filepath)\n",
        "  #load class output\n",
        "  y=load_file(prefix + group+ '/y_'+group+'.txt')\n",
        "  return X,y\n"
      ],
      "metadata": {
        "id": "5qwZJ3x5alf7"
      },
      "execution_count": 20,
      "outputs": []
    },
    {
      "cell_type": "code",
      "source": [
        "#load the dataset, returns train and test X and y elements\n",
        "def load_dataset(prefix='/content/drive/MyDrive/오영민교수님연구실/UCI HAR Dataset/UCI '):\n",
        "  #/content/drive/MyDrive/오영민교수님연구실/UCI HAR Dataset/UCI HAR Dataset/test/Inertial Signals\n",
        "  #load all train\n",
        "  trainX, trainy = load_dataset_group('train', prefix+'HAR Dataset/')\n",
        "  print(trainX.shape, trainy.shape)\n",
        "  #load all test\n",
        "  testX, testy = load_dataset_group('test',prefix+'HAR Dataset/')\n",
        "  print(testX.shape, testy.shape)\n",
        "  #zero-offset class values\n",
        "  trainy = trainy - 1\n",
        "  testy = testy -1\n",
        "  #one hot encode y\n",
        "  trainy = to_categorical(trainy)\n",
        "  testy = to_categorical(testy)\n",
        "  print(trainX.shape, trainy.shape, testX.shape, testy.shape)\n",
        "  return trainX, trainy, testX, testy\n"
      ],
      "metadata": {
        "id": "825t0iUliJVH"
      },
      "execution_count": 21,
      "outputs": []
    },
    {
      "cell_type": "code",
      "source": [
        "# fit and evaluate a model\n",
        "def evaluate_model(trainX, trainy, testX, testy):\n",
        "\tverbose, epochs, batch_size = 0, 15, 64\n",
        "\tn_timesteps, n_features, n_outputs = trainX.shape[1], trainX.shape[2], trainy.shape[1]\n",
        "\tmodel = Sequential()\n",
        "\tmodel.add(LSTM(100, input_shape=(n_timesteps,n_features)))\n",
        "\tmodel.add(Dropout(0.5))\n",
        "\tmodel.add(Dense(100, activation='relu'))\n",
        "\tmodel.add(Dense(n_outputs, activation='softmax'))\n",
        "\tmodel.compile(loss='categorical_crossentropy', optimizer='adam', metrics=['accuracy'])\n",
        "\t# fit network\n",
        "\tmodel.fit(trainX, trainy, epochs=epochs, batch_size=batch_size, verbose=verbose)\n",
        "\tY_pred = model.predict(testX)\n",
        "  confusion_matrix(Y_pred,testy,labels=['WALKING','WAKING_UPSTAIRS','WALKING_DOWNSTAIRS','SITTING','STANDING','LAYING'])\n",
        "\t# evaluate model\n",
        "\t_, accuracy = model.evaluate(testX, testy, batch_size=batch_size, verbose=0)\n",
        "\treturn accuracy\n",
        "  #model is fit fixed epoch(in this case 15), a batch size of 64 samples \n",
        "  #-> 64 windows of data will be exposed to the model before the weights of the model are updated\n",
        "\n"
      ],
      "metadata": {
        "id": "vT2xTTqrsUYX"
      },
      "execution_count": 15,
      "outputs": []
    },
    {
      "cell_type": "code",
      "source": [
        "\n",
        "\n",
        "# summarize scores\n",
        "def summarize_results(scores):\n",
        "  print(scores)\n",
        "  m,s = mean(scores), std(scores)\n",
        "  print('Accuracy: %.3f%% (+/-%.3f)' % (m,s))\n",
        "\n",
        "#run an experiment\n",
        "def run_experiment(repeats = 10):\n",
        "  #load data\n",
        "  trainX, trainy, testX, testy = load_dataset()\n",
        "    # repeat experiment\n",
        "  scores = list()\n",
        "  for r in range(repeats):\n",
        "    score = evaluate_model(trainX, trainy, testX, testy)\n",
        "    score = score * 100.0\n",
        "    print('#%d: %.3f' % (r+1,score))\n",
        "    scores.append(score)\n",
        "    #summarize results\n",
        "  summarize_results(scores)\n",
        "\n",
        "  #run the experiment\n",
        "run_experiment()"
      ],
      "metadata": {
        "id": "AXXTWJzrnQQ0",
        "colab": {
          "base_uri": "https://localhost:8080/"
        },
        "outputId": "28352661-c1f6-444e-90a2-ca19af9f2150"
      },
      "execution_count": 22,
      "outputs": [
        {
          "output_type": "stream",
          "name": "stdout",
          "text": [
            "(7352, 128, 9) (7352, 1)\n",
            "(2947, 128, 9) (2947, 1)\n",
            "(7352, 128, 9) (7352, 6) (2947, 128, 9) (2947, 6)\n",
            "#1: 92.467\n",
            "#2: 88.361\n",
            "#3: 90.363\n",
            "#4: 90.872\n",
            "#5: 90.193\n",
            "#6: 89.617\n",
            "#7: 90.940\n",
            "#8: 89.175\n",
            "#9: 90.159\n",
            "#10: 89.175\n",
            "[92.46691465377808, 88.36104273796082, 90.3630793094635, 90.87207317352295, 90.19341468811035, 89.61656093597412, 90.93993902206421, 89.17543292045593, 90.15948176383972, 89.17543292045593]\n",
            "Accuracy: 90.132% (+/-1.093)\n"
          ]
        }
      ]
    },
    {
      "cell_type": "code",
      "source": [
        "# #confusion matrix\n",
        "# from sklearn.metrics import confusion_matrix\n",
        "\n"
      ],
      "metadata": {
        "id": "H4Ip6x-tMiNZ"
      },
      "execution_count": null,
      "outputs": []
    }
  ]
}