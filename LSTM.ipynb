{
  "nbformat": 4,
  "nbformat_minor": 0,
  "metadata": {
    "colab": {
      "name": "LSTM.ipynb",
      "provenance": [],
      "mount_file_id": "1VfkadsdXRWH1ajl-De5wL9jMJ8ho8XJF",
      "authorship_tag": "ABX9TyOUkUd8uqHIIGxOfjiqlR9j",
      "include_colab_link": true
    },
    "kernelspec": {
      "name": "python3",
      "display_name": "Python 3"
    },
    "language_info": {
      "name": "python"
    },
    "accelerator": "GPU"
  },
  "cells": [
    {
      "cell_type": "markdown",
      "metadata": {
        "id": "view-in-github",
        "colab_type": "text"
      },
      "source": [
        "<a href=\"https://colab.research.google.com/github/yangsoyoung10011001/HumanActivityRecognition/blob/main/LSTM.ipynb\" target=\"_parent\"><img src=\"https://colab.research.google.com/assets/colab-badge.svg\" alt=\"Open In Colab\"/></a>"
      ]
    },
    {
      "cell_type": "code",
      "source": [
        "!pip install tensorflow.keras"
      ],
      "metadata": {
        "id": "CpNbpyne2SsS",
        "colab": {
          "base_uri": "https://localhost:8080/"
        },
        "outputId": "98a2d99c-bd0d-4d8f-a943-13104d7b1080"
      },
      "execution_count": null,
      "outputs": [
        {
          "output_type": "stream",
          "name": "stdout",
          "text": [
            "\u001b[31mERROR: Could not find a version that satisfies the requirement tensorflow.keras (from versions: none)\u001b[0m\n",
            "\u001b[31mERROR: No matching distribution found for tensorflow.keras\u001b[0m\n"
          ]
        }
      ]
    },
    {
      "cell_type": "code",
      "source": [
        "# lstm model\n",
        "from numpy import mean\n",
        "from numpy import std\n",
        "from numpy import dstack\n",
        "from pandas import read_csv\n",
        "from keras.models import Sequential\n",
        "from keras.layers import Dense\n",
        "from keras.layers import Flatten\n",
        "from keras.layers import Dropout\n",
        "from keras.layers import LSTM\n",
        "from tensorflow.keras.utils import to_categorical\n",
        "from matplotlib import pyplot\n",
        " "
      ],
      "metadata": {
        "id": "c1b3TyRk1LRm"
      },
      "execution_count": null,
      "outputs": []
    },
    {
      "cell_type": "code",
      "execution_count": null,
      "metadata": {
        "id": "D3CRr9caTBYb"
      },
      "outputs": [],
      "source": [
        "#load a single file as a numpy array\n",
        "\n",
        "def load_file(filepath):\n",
        "  dataframe = read_csv(filepath, header = None, delim_whitespace = True)\n",
        "  return dataframe.values\n",
        "\n"
      ]
    },
    {
      "cell_type": "code",
      "source": [
        "# load a list of files into a 3D array of [samples, timesteps, features]\n",
        "#samples\n",
        "def load_group(filenames, prefix=''):\n",
        "  loaded = list()\n",
        "  for name in filenames:\n",
        "    data = load_file(prefix +name)\n",
        "    loaded.append(data)\n",
        "    #stack group so that features are the 3rd dimension\n",
        "  loaded = dstack(loaded)\n",
        "  return loaded\n",
        "  #  there are 128 time steps and nine features, where the number of samples is the number of rows in any given raw signal data file."
      ],
      "metadata": {
        "id": "UPXh8S6DaljT"
      },
      "execution_count": null,
      "outputs": []
    },
    {
      "cell_type": "code",
      "source": [
        "# load a dataset group, such as train or test\n",
        "def load_dataset_group(group, prefix=''):\n",
        "  filepath = prefix + group+'/Inertial Signals/'\n",
        "  #load all 9 files as a single array\n",
        "  filenames = list()\n",
        "  #total acceleration\n",
        "  filenames += ['total_acc_x_' +group +'.txt', 'total_acc_y_'+group+'.txt','total_acc_z_'+group+'.txt']\n",
        "  #body accelation\n",
        "  filenames += ['body_acc_x_'+group+'.txt', 'body_acc_y_'+group+'.txt', 'body_acc_z_'+group+'.txt']\n",
        "  #body gyroscope\n",
        "  filenames +=['body_gyro_x_' +group+'.txt', 'body_gyro_y_'+group+'.txt', 'body_gyro_z_'+group+'.txt']\n",
        "  #load input data\n",
        "  X=load_group(filenames, filepath)\n",
        "  #load class output\n",
        "  y=load_file(prefix + group+ '/y_'+group+'.txt')\n",
        "  return X,y\n"
      ],
      "metadata": {
        "id": "5qwZJ3x5alf7"
      },
      "execution_count": null,
      "outputs": []
    },
    {
      "cell_type": "code",
      "source": [
        "#load the dataset, returns train and test X and y elements\n",
        "def load_dataset(prefix='/content/drive/MyDrive/오영민교수님연구실/UCI HAR Dataset/UCI '):\n",
        "  #/content/drive/MyDrive/오영민교수님연구실/UCI HAR Dataset/UCI HAR Dataset/test/Inertial Signals\n",
        "  #load all train\n",
        "  trainX, trainy = load_dataset_group('train', prefix+'HAR Dataset/')\n",
        "  print(trainX.shape, trainy.shape)\n",
        "  #load all test\n",
        "  testX, testy = load_dataset_group('test',prefix+'HAR Dataset/')\n",
        "  print(testX.shape, testy.shape)\n",
        "  #zero-offset class values\n",
        "  trainy = trainy - 1\n",
        "  testy = testy -1\n",
        "  #one hot encode y\n",
        "  trainy = to_categorical(trainy)\n",
        "  testy = to_categorical(testy)\n",
        "  print(trainX.shape, trainy.shape, testX.shape, testy.shape)\n",
        "  return trainX, trainy, testX, testy\n"
      ],
      "metadata": {
        "id": "825t0iUliJVH"
      },
      "execution_count": null,
      "outputs": []
    },
    {
      "cell_type": "code",
      "source": [
        "# fit and evaluate a model\n",
        "def evaluate_model(trainX, trainy, testX, testy):\n",
        "\tverbose, epochs, batch_size = 0, 15, 64\n",
        "\tn_timesteps, n_features, n_outputs = trainX.shape[1], trainX.shape[2], trainy.shape[1]\n",
        "\tmodel = Sequential()\n",
        "\tmodel.add(LSTM(100, input_shape=(n_timesteps,n_features)))\n",
        "\tmodel.add(Dropout(0.5))\n",
        "\tmodel.add(Dense(100, activation='relu'))\n",
        "\tmodel.add(Dense(n_outputs, activation='softmax'))\n",
        "\tmodel.compile(loss='categorical_crossentropy', optimizer='adam', metrics=['accuracy'])\n",
        "\t# fit network\n",
        "\tmodel.fit(trainX, trainy, epochs=epochs, batch_size=batch_size, verbose=verbose)\n",
        "\t# evaluate model\n",
        "\t_, accuracy = model.evaluate(testX, testy, batch_size=batch_size, verbose=0)\n",
        "\treturn accuracy\n",
        "  #model is fit fixed epoch(in this case 15), a batch size of 64 samples \n",
        "  #-> 64 windows of data will be exposed to the model before the weights of the model are updated\n",
        "\n"
      ],
      "metadata": {
        "id": "vT2xTTqrsUYX"
      },
      "execution_count": null,
      "outputs": []
    },
    {
      "cell_type": "code",
      "source": [
        "\n",
        "\n",
        "# summarize scores\n",
        "def summarize_results(scores):\n",
        "  print(scores)\n",
        "  m,s = mean(scores), std(scores)\n",
        "  print('Accuracy: %.3f%% (+/-%.3f)' % (m,s))\n",
        "\n",
        "#run an experiment\n",
        "def run_experiment(repeats = 10):\n",
        "  #load data\n",
        "  trainX, trainy, testX, testy = load_dataset()\n",
        "    # repeat experiment\n",
        "  scores = list()\n",
        "  for r in range(repeats):\n",
        "    score = evaluate_model(trainX, trainy, testX, testy)\n",
        "    score = score * 100.0\n",
        "    print('#%d: %.3f' % (r+1,score))\n",
        "    scores.append(score)\n",
        "    #summarize results\n",
        "  summarize_results(scores)\n",
        "\n",
        "  #run the experiment\n",
        "run_experiment()"
      ],
      "metadata": {
        "id": "AXXTWJzrnQQ0",
        "colab": {
          "base_uri": "https://localhost:8080/"
        },
        "outputId": "cb619211-f0ef-4877-f050-0fdc1b5a36d5"
      },
      "execution_count": null,
      "outputs": [
        {
          "output_type": "stream",
          "name": "stdout",
          "text": [
            "(7352, 128, 9) (7352, 1)\n",
            "(2947, 128, 9) (2947, 1)\n",
            "(7352, 128, 9) (7352, 6) (2947, 128, 9) (2947, 6)\n",
            "#1: 90.397\n",
            "#2: 90.397\n",
            "#3: 90.193\n",
            "#4: 90.668\n",
            "#5: 92.195\n",
            "#6: 89.854\n",
            "#7: 90.092\n",
            "#8: 91.890\n",
            "#9: 90.329\n",
            "#10: 90.736\n",
            "[90.39701223373413, 90.39701223373413, 90.19341468811035, 90.66847562789917, 92.19545125961304, 89.85409140586853, 90.09161591529846, 91.89005494117737, 90.32914638519287, 90.73634147644043]\n",
            "Accuracy: 90.675% (+/-0.729)\n"
          ]
        }
      ]
    },
    {
      "cell_type": "code",
      "source": [
        "#confusion matrix\n",
        "from sklearn.matrics import confusion_matrix\n",
        "confusion_matrix(testy,testX,*,labels=None)\n"
      ],
      "metadata": {
        "colab": {
          "base_uri": "https://localhost:8080/",
          "height": 136
        },
        "id": "H4Ip6x-tMiNZ",
        "outputId": "0f70efd5-94d9-449e-c6ce-2d31e0c86017"
      },
      "execution_count": null,
      "outputs": [
        {
          "output_type": "error",
          "ename": "SyntaxError",
          "evalue": "ignored",
          "traceback": [
            "\u001b[0;36m  File \u001b[0;32m\"<ipython-input-12-2e118d5faaa8>\"\u001b[0;36m, line \u001b[0;32m3\u001b[0m\n\u001b[0;31m    confusion_matrix(testy,testX,*,labels=None)\u001b[0m\n\u001b[0m                                  ^\u001b[0m\n\u001b[0;31mSyntaxError\u001b[0m\u001b[0;31m:\u001b[0m invalid syntax\n"
          ]
        }
      ]
    }
  ]
}