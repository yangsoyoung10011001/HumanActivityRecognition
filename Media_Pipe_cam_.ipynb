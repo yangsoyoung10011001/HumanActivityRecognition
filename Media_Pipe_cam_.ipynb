{
  "cells": [
    {
      "cell_type": "markdown",
      "metadata": {
        "id": "view-in-github",
        "colab_type": "text"
      },
      "source": [
        "<a href=\"https://colab.research.google.com/github/yangsoyoung10011001/HumanActivityRecognition/blob/main/Media_Pipe_cam_.ipynb\" target=\"_parent\"><img src=\"https://colab.research.google.com/assets/colab-badge.svg\" alt=\"Open In Colab\"/></a>"
      ]
    },
    {
      "cell_type": "code",
      "execution_count": null,
      "metadata": {
        "colab": {
          "base_uri": "https://localhost:8080/"
        },
        "id": "QGe5n05AeorP",
        "outputId": "fd61e2b5-814b-4a18-8753-c357d0a202aa"
      },
      "outputs": [
        {
          "name": "stdout",
          "output_type": "stream",
          "text": [
            "Collecting mediapipe\n",
            "  Downloading mediapipe-0.8.10-cp37-cp37m-manylinux_2_17_x86_64.manylinux2014_x86_64.whl (32.8 MB)\n",
            "\u001b[K     |████████████████████████████████| 32.8 MB 93.5 MB/s \n",
            "\u001b[?25hRequirement already satisfied: opencv-python in /usr/local/lib/python3.7/dist-packages (4.1.2.30)\n",
            "Requirement already satisfied: matplotlib in /usr/local/lib/python3.7/dist-packages (from mediapipe) (3.2.2)\n",
            "Requirement already satisfied: protobuf>=3.11.4 in /usr/local/lib/python3.7/dist-packages (from mediapipe) (3.17.3)\n",
            "Requirement already satisfied: attrs>=19.1.0 in /usr/local/lib/python3.7/dist-packages (from mediapipe) (21.4.0)\n",
            "Requirement already satisfied: absl-py in /usr/local/lib/python3.7/dist-packages (from mediapipe) (1.0.0)\n",
            "Requirement already satisfied: opencv-contrib-python in /usr/local/lib/python3.7/dist-packages (from mediapipe) (4.1.2.30)\n",
            "Requirement already satisfied: numpy in /usr/local/lib/python3.7/dist-packages (from mediapipe) (1.21.6)\n",
            "Requirement already satisfied: six>=1.9 in /usr/local/lib/python3.7/dist-packages (from protobuf>=3.11.4->mediapipe) (1.15.0)\n",
            "Requirement already satisfied: kiwisolver>=1.0.1 in /usr/local/lib/python3.7/dist-packages (from matplotlib->mediapipe) (1.4.2)\n",
            "Requirement already satisfied: cycler>=0.10 in /usr/local/lib/python3.7/dist-packages (from matplotlib->mediapipe) (0.11.0)\n",
            "Requirement already satisfied: python-dateutil>=2.1 in /usr/local/lib/python3.7/dist-packages (from matplotlib->mediapipe) (2.8.2)\n",
            "Requirement already satisfied: pyparsing!=2.0.4,!=2.1.2,!=2.1.6,>=2.0.1 in /usr/local/lib/python3.7/dist-packages (from matplotlib->mediapipe) (3.0.8)\n",
            "Requirement already satisfied: typing-extensions in /usr/local/lib/python3.7/dist-packages (from kiwisolver>=1.0.1->matplotlib->mediapipe) (4.2.0)\n",
            "Installing collected packages: mediapipe\n",
            "Successfully installed mediapipe-0.8.10\n"
          ]
        }
      ],
      "source": [
        "!pip install mediapipe opencv-python\n",
        "import mediapipe as mp\n",
        "import cv2 #webcam, video와 같은것을 처리"
      ]
    },
    {
      "cell_type": "code",
      "execution_count": null,
      "metadata": {
        "id": "_rBY-kRpfelT"
      },
      "outputs": [],
      "source": [
        "mp_drawing = mp.solutions.drawing_utils\n",
        "mp_holistic = mp.solutions.holistic#모든부분 \n"
      ]
    },
    {
      "cell_type": "markdown",
      "metadata": {
        "id": "oyOjkLxzi074"
      },
      "source": [
        "Get Realtime Webcam Feed"
      ]
    },
    {
      "cell_type": "code",
      "execution_count": null,
      "metadata": {
        "id": "gwvsyyZpcBg9"
      },
      "outputs": [],
      "source": [
        "cap = cv2.VideoCapture(0)#"
      ]
    },
    {
      "cell_type": "code",
      "execution_count": null,
      "metadata": {
        "id": "ZQ3pzcKrfvMI"
      },
      "outputs": [],
      "source": [
        "cap = cv2.VideoCapture(0)#디바이스 번호 #노트북 내장카메라는 0번\n",
        "cap.set(3,720) #3은 가로길이\n",
        "cap.set(4, 1080)#4는 세로길이\n",
        "while cap.isOpened():\n",
        "  ret, frame = cap.read()\n",
        "  cv2.imshow('Raw Webcam Feed', frame)\n",
        "\n",
        "  if cv2.waitKey(10) & 0xFF == ord('q'):\n",
        "    break\n",
        "cap.release()\n",
        "cv2.destroyAllWindows"
      ]
    },
    {
      "cell_type": "markdown",
      "metadata": {
        "id": "_y7iCU80lcfh"
      },
      "source": [
        "2. Make Detections from Feed\n",
        "  1. Detect Facial Landmarks\n",
        "  2. Detect Hand Poses\n",
        "  3. Detect Body Poses"
      ]
    },
    {
      "cell_type": "markdown",
      "metadata": {
        "id": "MvesDi63yBpu"
      },
      "source": [
        "파일로 비디오 읽기"
      ]
    },
    {
      "cell_type": "code",
      "execution_count": null,
      "metadata": {
        "colab": {
          "background_save": true
        },
        "id": "Cc2VL5dZxtDh"
      },
      "outputs": [],
      "source": [
        "import cv2\n",
        "from google.colab.patches import cv2_imshow\n",
        "cap = cv2.VideoCapture('/content/20220516_135333.avi')\n",
        "\n",
        "while(cap.isOpened()):\n",
        "    ret, frame = cap.read()\n",
        "    #gray = cv2.cvtColor(frame, cv2.COLOR_BGR2GRAY)\n",
        "    image = cv2.cvtColor(frame, cv2.COLOR_BGR2RGB)\n",
        "    # cv2_imshow(gray)#frame'\n",
        "\n",
        "    if cv2.waitKey(1) & 0xFF == ord('q'):\n",
        "        break\n",
        "cap.release()\n",
        "cv2.destroyAllWindows()"
      ]
    },
    {
      "cell_type": "code",
      "execution_count": null,
      "metadata": {
        "id": "fdk5qrV3yM5X"
      },
      "outputs": [],
      "source": [
        "import cv2\n",
        "\n",
        "cap = cv2.VideoCapture(0)\n",
        "\n",
        "fourcc = cv2.VideoWriter_fourcc(*'DIVX')\n",
        "out = cv2.VideoWriter('output.avi', fourcc, 25.0, (640,480))\n",
        "\n",
        "while (cap.isOpend()):\n",
        "    ret, frame = cap.read()\n",
        "\n",
        "    if ret:\n",
        "        # 이미지 반전,  0:상하, 1 : 좌우\n",
        "        frame = cv2.flip(frame, 0)\n",
        "\n",
        "        out.write(frame)\n",
        "\n",
        "        cv2.imshow('frame', frame)\n",
        "\n",
        "        if cv2.waitKey(0) & 0xFF == ord('q'):\n",
        "            break\n",
        "    else:\n",
        "        break\n",
        "\n",
        "cap.release()\n",
        "out.release()\n",
        "cv2.destroyAllWindows()"
      ]
    },
    {
      "cell_type": "code",
      "execution_count": null,
      "metadata": {
        "id": "nOZeFf2xlSms"
      },
      "outputs": [],
      "source": [
        "cap = cv2.VideoCapture(0)#0~5까지 가능 video capture 디바이스 설정\n",
        "\n",
        "#initial holistic model\n",
        "with mp_holistic.Holistic(min_detection_confidence=0.5, min_tracking_confidence=0.5) as holistic:\n",
        "  while cap.isOpened():\n",
        "    ret, frame = cap.read()\n",
        "    #Recolor Feed\n",
        "    image = cv2.cvtColor(frame, cv2.COLOR_BGR2RGB)\n",
        "    #Make Detections\n",
        "    results = holistic.process(image)\n",
        "    print(results.face_landmarks)\n",
        "\n",
        "    #face_Landmarks, pose_landmarks, left_hand_landmarks, Right_hand_landmakrs\n",
        "\n",
        "    #Recolor image back to BGR for rendering\n",
        "    image = cv2.cvtColor(frame, cv2.COLOR_BGR2RGB)\n",
        "\n",
        "    #Drawing face landmakrs\n",
        "    mp_drawing.draw_landmarks(image, results.face_landmakrs, mp_holistic.FACE_CONNECTIONS)\n",
        "\n",
        "    #Right hand\n",
        "    # mp_drawing.draw_landmarks(image, results.Right_hand_landmakrs, mp_holistic.HAND_CONNECTIONS)\n",
        "    mp_drawing.draw_landmarks(image, results.Right_hand_landmakrs, mp_holistic.HAND_CONNECTIONS,\n",
        "                          mp_drawing.DrawingSpec(Color=(255,00,0),thickness=2, circle_radius=4),\n",
        "                          mp_drawing.DrawingSpec(Color=(240,00,0),thickness=2, circle_radius=2))\n",
        "    #Left Hand\n",
        "    mp_drawing.draw_landmarks(image, results.left_hand_landmarks, mp_holistic.HAND_CONNECTIONS)\n",
        "\n",
        "    #Pose Detections\n",
        "    mp_drawing.draw_landmarks(image, results.pose_landmarks, mp_holistic.POSE_CONNECTIONS)\n",
        "\n",
        "    cv2.imshow('Raw Webcam Feed', image)\n",
        "\n",
        "    if cv2.waitKey(10) & 0xFF == ord('q'):\n",
        "      break\n",
        "  cap.release()\n",
        "  cv2.destroyAllWindows"
      ]
    },
    {
      "cell_type": "code",
      "execution_count": null,
      "metadata": {
        "id": "ETZA2N7kr-oj"
      },
      "outputs": [],
      "source": [
        "mp_holistic.POSE_CONNECTIONS"
      ]
    },
    {
      "cell_type": "code",
      "execution_count": null,
      "metadata": {
        "id": "Xt5NWVXa4_lJ"
      },
      "outputs": [],
      "source": [
        "#도움말 검색\n",
        "mp_drawing.draw_landmarks??\n",
        "#색상변경\n",
        "mp_drawing.draw_landmarks(image, results.Right_hand_landmakrs, mp_holistic.HAND_CONNECTIONS,\n",
        "                          mp_drawing.DrawingSpec(Color=(255,00,0),thickness=2, circle_radius=4),\n",
        "                          mp_drawing.DrawingSpec(Color=(240,00,0),thickness=2, circle_radius=2))"
      ]
    }
  ],
  "metadata": {
    "accelerator": "GPU",
    "colab": {
      "provenance": [],
      "authorship_tag": "ABX9TyPhLyV3Kl3hTXbfm/dJmJ4z",
      "include_colab_link": true
    },
    "kernelspec": {
      "display_name": "Python 3",
      "name": "python3"
    },
    "language_info": {
      "name": "python"
    }
  },
  "nbformat": 4,
  "nbformat_minor": 0
}